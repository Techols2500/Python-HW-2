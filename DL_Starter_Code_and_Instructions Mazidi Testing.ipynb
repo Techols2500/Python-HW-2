{
  "cells": [
    {
      "cell_type": "markdown",
      "source": [
        "### Homework DL Starter Code and Instructions\n",
        "### Your name here\n",
        "\n",
        "### Step 1: Description\n",
        "\n",
        "This notebook performs regression to estimate the price of a car given various features. \n",
        "\n",
        "### Step 2: Load the data \n",
        "\n",
        "* upload the data\n",
        "* put the data in a pandas dataframe\n",
        "* output the data shape (rows, cols)\n",
        "* output the first few rows of the data"
      ],
      "metadata": {
        "id": "Lij9_HSB5H5Q"
      }
    },
    {
      "cell_type": "code",
      "source": [
        "# load the csv file up into the cloud\n",
        "\n"
      ],
      "outputs": [],
      "execution_count": 1,
      "metadata": {
        "colab": {
          "resources": {
            "http://localhost:8080/nbextensions/google.colab/files.js": {
              "data": "Ly8gQ29weXJpZ2h0IDIwMTcgR29vZ2xlIExMQwovLwovLyBMaWNlbnNlZCB1bmRlciB0aGUgQXBhY2hlIExpY2Vuc2UsIFZlcnNpb24gMi4wICh0aGUgIkxpY2Vuc2UiKTsKLy8geW91IG1heSBub3QgdXNlIHRoaXMgZmlsZSBleGNlcHQgaW4gY29tcGxpYW5jZSB3aXRoIHRoZSBMaWNlbnNlLgovLyBZb3UgbWF5IG9idGFpbiBhIGNvcHkgb2YgdGhlIExpY2Vuc2UgYXQKLy8KLy8gICAgICBodHRwOi8vd3d3LmFwYWNoZS5vcmcvbGljZW5zZXMvTElDRU5TRS0yLjAKLy8KLy8gVW5sZXNzIHJlcXVpcmVkIGJ5IGFwcGxpY2FibGUgbGF3IG9yIGFncmVlZCB0byBpbiB3cml0aW5nLCBzb2Z0d2FyZQovLyBkaXN0cmlidXRlZCB1bmRlciB0aGUgTGljZW5zZSBpcyBkaXN0cmlidXRlZCBvbiBhbiAiQVMgSVMiIEJBU0lTLAovLyBXSVRIT1VUIFdBUlJBTlRJRVMgT1IgQ09ORElUSU9OUyBPRiBBTlkgS0lORCwgZWl0aGVyIGV4cHJlc3Mgb3IgaW1wbGllZC4KLy8gU2VlIHRoZSBMaWNlbnNlIGZvciB0aGUgc3BlY2lmaWMgbGFuZ3VhZ2UgZ292ZXJuaW5nIHBlcm1pc3Npb25zIGFuZAovLyBsaW1pdGF0aW9ucyB1bmRlciB0aGUgTGljZW5zZS4KCi8qKgogKiBAZmlsZW92ZXJ2aWV3IEhlbHBlcnMgZm9yIGdvb2dsZS5jb2xhYiBQeXRob24gbW9kdWxlLgogKi8KKGZ1bmN0aW9uKHNjb3BlKSB7CmZ1bmN0aW9uIHNwYW4odGV4dCwgc3R5bGVBdHRyaWJ1dGVzID0ge30pIHsKICBjb25zdCBlbGVtZW50ID0gZG9jdW1lbnQuY3JlYXRlRWxlbWVudCgnc3BhbicpOwogIGVsZW1lbnQudGV4dENvbnRlbnQgPSB0ZXh0OwogIGZvciAoY29uc3Qga2V5IG9mIE9iamVjdC5rZXlzKHN0eWxlQXR0cmlidXRlcykpIHsKICAgIGVsZW1lbnQuc3R5bGVba2V5XSA9IHN0eWxlQXR0cmlidXRlc1trZXldOwogIH0KICByZXR1cm4gZWxlbWVudDsKfQoKLy8gTWF4IG51bWJlciBvZiBieXRlcyB3aGljaCB3aWxsIGJlIHVwbG9hZGVkIGF0IGEgdGltZS4KY29uc3QgTUFYX1BBWUxPQURfU0laRSA9IDEwMCAqIDEwMjQ7CgpmdW5jdGlvbiBfdXBsb2FkRmlsZXMoaW5wdXRJZCwgb3V0cHV0SWQpIHsKICBjb25zdCBzdGVwcyA9IHVwbG9hZEZpbGVzU3RlcChpbnB1dElkLCBvdXRwdXRJZCk7CiAgY29uc3Qgb3V0cHV0RWxlbWVudCA9IGRvY3VtZW50LmdldEVsZW1lbnRCeUlkKG91dHB1dElkKTsKICAvLyBDYWNoZSBzdGVwcyBvbiB0aGUgb3V0cHV0RWxlbWVudCB0byBtYWtlIGl0IGF2YWlsYWJsZSBmb3IgdGhlIG5leHQgY2FsbAogIC8vIHRvIHVwbG9hZEZpbGVzQ29udGludWUgZnJvbSBQeXRob24uCiAgb3V0cHV0RWxlbWVudC5zdGVwcyA9IHN0ZXBzOwoKICByZXR1cm4gX3VwbG9hZEZpbGVzQ29udGludWUob3V0cHV0SWQpOwp9CgovLyBUaGlzIGlzIHJvdWdobHkgYW4gYXN5bmMgZ2VuZXJhdG9yIChub3Qgc3VwcG9ydGVkIGluIHRoZSBicm93c2VyIHlldCksCi8vIHdoZXJlIHRoZXJlIGFyZSBtdWx0aXBsZSBhc3luY2hyb25vdXMgc3RlcHMgYW5kIHRoZSBQeXRob24gc2lkZSBpcyBnb2luZwovLyB0byBwb2xsIGZvciBjb21wbGV0aW9uIG9mIGVhY2ggc3RlcC4KLy8gVGhpcyB1c2VzIGEgUHJvbWlzZSB0byBibG9jayB0aGUgcHl0aG9uIHNpZGUgb24gY29tcGxldGlvbiBvZiBlYWNoIHN0ZXAsCi8vIHRoZW4gcGFzc2VzIHRoZSByZXN1bHQgb2YgdGhlIHByZXZpb3VzIHN0ZXAgYXMgdGhlIGlucHV0IHRvIHRoZSBuZXh0IHN0ZXAuCmZ1bmN0aW9uIF91cGxvYWRGaWxlc0NvbnRpbnVlKG91dHB1dElkKSB7CiAgY29uc3Qgb3V0cHV0RWxlbWVudCA9IGRvY3VtZW50LmdldEVsZW1lbnRCeUlkKG91dHB1dElkKTsKICBjb25zdCBzdGVwcyA9IG91dHB1dEVsZW1lbnQuc3RlcHM7CgogIGNvbnN0IG5leHQgPSBzdGVwcy5uZXh0KG91dHB1dEVsZW1lbnQubGFzdFByb21pc2VWYWx1ZSk7CiAgcmV0dXJuIFByb21pc2UucmVzb2x2ZShuZXh0LnZhbHVlLnByb21pc2UpLnRoZW4oKHZhbHVlKSA9PiB7CiAgICAvLyBDYWNoZSB0aGUgbGFzdCBwcm9taXNlIHZhbHVlIHRvIG1ha2UgaXQgYXZhaWxhYmxlIHRvIHRoZSBuZXh0CiAgICAvLyBzdGVwIG9mIHRoZSBnZW5lcmF0b3IuCiAgICBvdXRwdXRFbGVtZW50Lmxhc3RQcm9taXNlVmFsdWUgPSB2YWx1ZTsKICAgIHJldHVybiBuZXh0LnZhbHVlLnJlc3BvbnNlOwogIH0pOwp9CgovKioKICogR2VuZXJhdG9yIGZ1bmN0aW9uIHdoaWNoIGlzIGNhbGxlZCBiZXR3ZWVuIGVhY2ggYXN5bmMgc3RlcCBvZiB0aGUgdXBsb2FkCiAqIHByb2Nlc3MuCiAqIEBwYXJhbSB7c3RyaW5nfSBpbnB1dElkIEVsZW1lbnQgSUQgb2YgdGhlIGlucHV0IGZpbGUgcGlja2VyIGVsZW1lbnQuCiAqIEBwYXJhbSB7c3RyaW5nfSBvdXRwdXRJZCBFbGVtZW50IElEIG9mIHRoZSBvdXRwdXQgZGlzcGxheS4KICogQHJldHVybiB7IUl0ZXJhYmxlPCFPYmplY3Q+fSBJdGVyYWJsZSBvZiBuZXh0IHN0ZXBzLgogKi8KZnVuY3Rpb24qIHVwbG9hZEZpbGVzU3RlcChpbnB1dElkLCBvdXRwdXRJZCkgewogIGNvbnN0IGlucHV0RWxlbWVudCA9IGRvY3VtZW50LmdldEVsZW1lbnRCeUlkKGlucHV0SWQpOwogIGlucHV0RWxlbWVudC5kaXNhYmxlZCA9IGZhbHNlOwoKICBjb25zdCBvdXRwdXRFbGVtZW50ID0gZG9jdW1lbnQuZ2V0RWxlbWVudEJ5SWQob3V0cHV0SWQpOwogIG91dHB1dEVsZW1lbnQuaW5uZXJIVE1MID0gJyc7CgogIGNvbnN0IHBpY2tlZFByb21pc2UgPSBuZXcgUHJvbWlzZSgocmVzb2x2ZSkgPT4gewogICAgaW5wdXRFbGVtZW50LmFkZEV2ZW50TGlzdGVuZXIoJ2NoYW5nZScsIChlKSA9PiB7CiAgICAgIHJlc29sdmUoZS50YXJnZXQuZmlsZXMpOwogICAgfSk7CiAgfSk7CgogIGNvbnN0IGNhbmNlbCA9IGRvY3VtZW50LmNyZWF0ZUVsZW1lbnQoJ2J1dHRvbicpOwogIGlucHV0RWxlbWVudC5wYXJlbnRFbGVtZW50LmFwcGVuZENoaWxkKGNhbmNlbCk7CiAgY2FuY2VsLnRleHRDb250ZW50ID0gJ0NhbmNlbCB1cGxvYWQnOwogIGNvbnN0IGNhbmNlbFByb21pc2UgPSBuZXcgUHJvbWlzZSgocmVzb2x2ZSkgPT4gewogICAgY2FuY2VsLm9uY2xpY2sgPSAoKSA9PiB7CiAgICAgIHJlc29sdmUobnVsbCk7CiAgICB9OwogIH0pOwoKICAvLyBXYWl0IGZvciB0aGUgdXNlciB0byBwaWNrIHRoZSBmaWxlcy4KICBjb25zdCBmaWxlcyA9IHlpZWxkIHsKICAgIHByb21pc2U6IFByb21pc2UucmFjZShbcGlja2VkUHJvbWlzZSwgY2FuY2VsUHJvbWlzZV0pLAogICAgcmVzcG9uc2U6IHsKICAgICAgYWN0aW9uOiAnc3RhcnRpbmcnLAogICAgfQogIH07CgogIGNhbmNlbC5yZW1vdmUoKTsKCiAgLy8gRGlzYWJsZSB0aGUgaW5wdXQgZWxlbWVudCBzaW5jZSBmdXJ0aGVyIHBpY2tzIGFyZSBub3QgYWxsb3dlZC4KICBpbnB1dEVsZW1lbnQuZGlzYWJsZWQgPSB0cnVlOwoKICBpZiAoIWZpbGVzKSB7CiAgICByZXR1cm4gewogICAgICByZXNwb25zZTogewogICAgICAgIGFjdGlvbjogJ2NvbXBsZXRlJywKICAgICAgfQogICAgfTsKICB9CgogIGZvciAoY29uc3QgZmlsZSBvZiBmaWxlcykgewogICAgY29uc3QgbGkgPSBkb2N1bWVudC5jcmVhdGVFbGVtZW50KCdsaScpOwogICAgbGkuYXBwZW5kKHNwYW4oZmlsZS5uYW1lLCB7Zm9udFdlaWdodDogJ2JvbGQnfSkpOwogICAgbGkuYXBwZW5kKHNwYW4oCiAgICAgICAgYCgke2ZpbGUudHlwZSB8fCAnbi9hJ30pIC0gJHtmaWxlLnNpemV9IGJ5dGVzLCBgICsKICAgICAgICBgbGFzdCBtb2RpZmllZDogJHsKICAgICAgICAgICAgZmlsZS5sYXN0TW9kaWZpZWREYXRlID8gZmlsZS5sYXN0TW9kaWZpZWREYXRlLnRvTG9jYWxlRGF0ZVN0cmluZygpIDoKICAgICAgICAgICAgICAgICAgICAgICAgICAgICAgICAgICAgJ24vYSd9IC0gYCkpOwogICAgY29uc3QgcGVyY2VudCA9IHNwYW4oJzAlIGRvbmUnKTsKICAgIGxpLmFwcGVuZENoaWxkKHBlcmNlbnQpOwoKICAgIG91dHB1dEVsZW1lbnQuYXBwZW5kQ2hpbGQobGkpOwoKICAgIGNvbnN0IGZpbGVEYXRhUHJvbWlzZSA9IG5ldyBQcm9taXNlKChyZXNvbHZlKSA9PiB7CiAgICAgIGNvbnN0IHJlYWRlciA9IG5ldyBGaWxlUmVhZGVyKCk7CiAgICAgIHJlYWRlci5vbmxvYWQgPSAoZSkgPT4gewogICAgICAgIHJlc29sdmUoZS50YXJnZXQucmVzdWx0KTsKICAgICAgfTsKICAgICAgcmVhZGVyLnJlYWRBc0FycmF5QnVmZmVyKGZpbGUpOwogICAgfSk7CiAgICAvLyBXYWl0IGZvciB0aGUgZGF0YSB0byBiZSByZWFkeS4KICAgIGxldCBmaWxlRGF0YSA9IHlpZWxkIHsKICAgICAgcHJvbWlzZTogZmlsZURhdGFQcm9taXNlLAogICAgICByZXNwb25zZTogewogICAgICAgIGFjdGlvbjogJ2NvbnRpbnVlJywKICAgICAgfQogICAgfTsKCiAgICAvLyBVc2UgYSBjaHVua2VkIHNlbmRpbmcgdG8gYXZvaWQgbWVzc2FnZSBzaXplIGxpbWl0cy4gU2VlIGIvNjIxMTU2NjAuCiAgICBsZXQgcG9zaXRpb24gPSAwOwogICAgZG8gewogICAgICBjb25zdCBsZW5ndGggPSBNYXRoLm1pbihmaWxlRGF0YS5ieXRlTGVuZ3RoIC0gcG9zaXRpb24sIE1BWF9QQVlMT0FEX1NJWkUpOwogICAgICBjb25zdCBjaHVuayA9IG5ldyBVaW50OEFycmF5KGZpbGVEYXRhLCBwb3NpdGlvbiwgbGVuZ3RoKTsKICAgICAgcG9zaXRpb24gKz0gbGVuZ3RoOwoKICAgICAgY29uc3QgYmFzZTY0ID0gYnRvYShTdHJpbmcuZnJvbUNoYXJDb2RlLmFwcGx5KG51bGwsIGNodW5rKSk7CiAgICAgIHlpZWxkIHsKICAgICAgICByZXNwb25zZTogewogICAgICAgICAgYWN0aW9uOiAnYXBwZW5kJywKICAgICAgICAgIGZpbGU6IGZpbGUubmFtZSwKICAgICAgICAgIGRhdGE6IGJhc2U2NCwKICAgICAgICB9LAogICAgICB9OwoKICAgICAgbGV0IHBlcmNlbnREb25lID0gZmlsZURhdGEuYnl0ZUxlbmd0aCA9PT0gMCA/CiAgICAgICAgICAxMDAgOgogICAgICAgICAgTWF0aC5yb3VuZCgocG9zaXRpb24gLyBmaWxlRGF0YS5ieXRlTGVuZ3RoKSAqIDEwMCk7CiAgICAgIHBlcmNlbnQudGV4dENvbnRlbnQgPSBgJHtwZXJjZW50RG9uZX0lIGRvbmVgOwoKICAgIH0gd2hpbGUgKHBvc2l0aW9uIDwgZmlsZURhdGEuYnl0ZUxlbmd0aCk7CiAgfQoKICAvLyBBbGwgZG9uZS4KICB5aWVsZCB7CiAgICByZXNwb25zZTogewogICAgICBhY3Rpb246ICdjb21wbGV0ZScsCiAgICB9CiAgfTsKfQoKc2NvcGUuZ29vZ2xlID0gc2NvcGUuZ29vZ2xlIHx8IHt9OwpzY29wZS5nb29nbGUuY29sYWIgPSBzY29wZS5nb29nbGUuY29sYWIgfHwge307CnNjb3BlLmdvb2dsZS5jb2xhYi5fZmlsZXMgPSB7CiAgX3VwbG9hZEZpbGVzLAogIF91cGxvYWRGaWxlc0NvbnRpbnVlLAp9Owp9KShzZWxmKTsK",
              "ok": true,
              "headers": [
                [
                  "content-type",
                  "application/javascript"
                ]
              ],
              "status": 200,
              "status_text": ""
            }
          },
          "base_uri": "https://localhost:8080/",
          "height": 73
        },
        "id": "ZdSPFfzD5C4q",
        "executionInfo": {
          "status": "ok",
          "timestamp": 1639492688714,
          "user_tz": 360,
          "elapsed": 13212,
          "user": {
            "displayName": "Karen Janice Mazidi",
            "photoUrl": "https://lh3.googleusercontent.com/a-/AOh14GiRxWMd1kdCCDAxi9gcTgAt8fOYqu1fFKGVTIWH8g=s64",
            "userId": "15149885104950584541"
          }
        },
        "outputId": "71dde523-fb60-436c-fb10-bc3a889255aa",
        "execution": {
          "shell.execute_reply": "2022-02-09T17:57:30.731Z",
          "iopub.status.busy": "2022-02-09T17:57:30.817Z",
          "iopub.execute_input": "2022-02-09T17:57:30.826Z",
          "iopub.status.idle": "2022-02-09T17:57:30.840Z"
        }
      }
    },
    {
      "cell_type": "code",
      "source": [
        "# load the data into a pandas data frame\n",
        "# print the shape of the data frame\n",
        "# display the first few rows"
      ],
      "outputs": [],
      "execution_count": 2,
      "metadata": {
        "colab": {
          "base_uri": "https://localhost:8080/",
          "height": 224
        },
        "id": "j9v6Si4e5q78",
        "executionInfo": {
          "status": "ok",
          "timestamp": 1639492697300,
          "user_tz": 360,
          "elapsed": 195,
          "user": {
            "displayName": "Karen Janice Mazidi",
            "photoUrl": "https://lh3.googleusercontent.com/a-/AOh14GiRxWMd1kdCCDAxi9gcTgAt8fOYqu1fFKGVTIWH8g=s64",
            "userId": "15149885104950584541"
          }
        },
        "outputId": "71ad2195-a471-410c-b01e-53c51be93b9b",
        "execution": {
          "iopub.status.busy": "2022-02-09T17:58:19.509Z",
          "iopub.execute_input": "2022-02-09T17:58:19.517Z",
          "iopub.status.idle": "2022-02-09T17:58:19.534Z",
          "shell.execute_reply": "2022-02-09T17:58:19.544Z"
        }
      }
    },
    {
      "cell_type": "markdown",
      "source": [
        "### Step 3 Data Exploration\n",
        "\n"
      ],
      "metadata": {
        "id": "0WRAuOL9kZLT"
      }
    },
    {
      "cell_type": "code",
      "source": [
        "df.dtypes"
      ],
      "outputs": [
        {
          "output_type": "execute_result",
          "execution_count": 4,
          "data": {
            "text/plain": "model            object\nyear              int64\nprice             int64\ntransmission     object\nmileage           int64\nfuelType         object\ntax               int64\nmpg             float64\nengineSize      float64\ndtype: object"
          },
          "metadata": {}
        }
      ],
      "execution_count": 4,
      "metadata": {
        "colab": {
          "base_uri": "https://localhost:8080/"
        },
        "id": "2x2KvkCJHBkC",
        "executionInfo": {
          "status": "ok",
          "timestamp": 1639492699866,
          "user_tz": 360,
          "elapsed": 3,
          "user": {
            "displayName": "Karen Janice Mazidi",
            "photoUrl": "https://lh3.googleusercontent.com/a-/AOh14GiRxWMd1kdCCDAxi9gcTgAt8fOYqu1fFKGVTIWH8g=s64",
            "userId": "15149885104950584541"
          }
        },
        "outputId": "7a6bd66d-d19f-4936-d8e4-cbbb9dba7b9a"
      }
    },
    {
      "cell_type": "code",
      "source": [
        "# change categorical column type from object to category\n",
        "\n"
      ],
      "outputs": [],
      "execution_count": 3,
      "metadata": {
        "colab": {
          "base_uri": "https://localhost:8080/"
        },
        "id": "a3T2oWBqFWgb",
        "executionInfo": {
          "status": "ok",
          "timestamp": 1639492712466,
          "user_tz": 360,
          "elapsed": 188,
          "user": {
            "displayName": "Karen Janice Mazidi",
            "photoUrl": "https://lh3.googleusercontent.com/a-/AOh14GiRxWMd1kdCCDAxi9gcTgAt8fOYqu1fFKGVTIWH8g=s64",
            "userId": "15149885104950584541"
          }
        },
        "outputId": "e951b637-b71d-4ed0-89f9-c1e73e8dcf8a",
        "execution": {
          "iopub.status.busy": "2022-02-09T17:58:38.850Z",
          "iopub.execute_input": "2022-02-09T17:58:38.857Z",
          "iopub.status.idle": "2022-02-09T17:58:38.869Z",
          "shell.execute_reply": "2022-02-09T17:58:38.878Z"
        }
      }
    },
    {
      "cell_type": "code",
      "source": [
        "# check for NAs"
      ],
      "outputs": [],
      "execution_count": 4,
      "metadata": {
        "colab": {
          "base_uri": "https://localhost:8080/"
        },
        "id": "EntWx_jY6fAQ",
        "executionInfo": {
          "status": "ok",
          "timestamp": 1639492746209,
          "user_tz": 360,
          "elapsed": 172,
          "user": {
            "displayName": "Karen Janice Mazidi",
            "photoUrl": "https://lh3.googleusercontent.com/a-/AOh14GiRxWMd1kdCCDAxi9gcTgAt8fOYqu1fFKGVTIWH8g=s64",
            "userId": "15149885104950584541"
          }
        },
        "outputId": "2c862518-49a5-462f-8e37-7f8ddb119807",
        "execution": {
          "iopub.status.busy": "2022-02-09T17:58:50.400Z",
          "iopub.execute_input": "2022-02-09T17:58:50.406Z",
          "iopub.status.idle": "2022-02-09T17:58:50.418Z",
          "shell.execute_reply": "2022-02-09T17:58:50.424Z"
        }
      }
    },
    {
      "cell_type": "code",
      "source": [
        "# use describe() to examine the data"
      ],
      "outputs": [],
      "execution_count": 5,
      "metadata": {
        "colab": {
          "base_uri": "https://localhost:8080/",
          "height": 300
        },
        "id": "NO3sOnhn6maa",
        "executionInfo": {
          "status": "ok",
          "timestamp": 1639492748988,
          "user_tz": 360,
          "elapsed": 168,
          "user": {
            "displayName": "Karen Janice Mazidi",
            "photoUrl": "https://lh3.googleusercontent.com/a-/AOh14GiRxWMd1kdCCDAxi9gcTgAt8fOYqu1fFKGVTIWH8g=s64",
            "userId": "15149885104950584541"
          }
        },
        "outputId": "adf616cb-6480-42d7-aa7c-31d35db43760",
        "execution": {
          "iopub.status.busy": "2022-02-09T17:59:05.815Z",
          "iopub.execute_input": "2022-02-09T17:59:05.822Z",
          "iopub.status.idle": "2022-02-09T17:59:05.832Z",
          "shell.execute_reply": "2022-02-09T17:59:05.839Z"
        }
      }
    },
    {
      "cell_type": "code",
      "source": [
        "# using seaborn, craete a lineplot() with year on the x axis and price on the y axis\n"
      ],
      "outputs": [],
      "execution_count": 7,
      "metadata": {
        "colab": {
          "base_uri": "https://localhost:8080/",
          "height": 296
        },
        "id": "5i0mvNwO7AH8",
        "executionInfo": {
          "status": "ok",
          "timestamp": 1639492753244,
          "user_tz": 360,
          "elapsed": 1326,
          "user": {
            "displayName": "Karen Janice Mazidi",
            "photoUrl": "https://lh3.googleusercontent.com/a-/AOh14GiRxWMd1kdCCDAxi9gcTgAt8fOYqu1fFKGVTIWH8g=s64",
            "userId": "15149885104950584541"
          }
        },
        "outputId": "4f5692a8-6db8-4b22-903d-e6294fc06bb5",
        "execution": {
          "iopub.status.busy": "2022-02-09T17:59:58.922Z",
          "iopub.execute_input": "2022-02-09T17:59:58.928Z",
          "iopub.status.idle": "2022-02-09T17:59:58.941Z",
          "shell.execute_reply": "2022-02-09T17:59:58.947Z"
        }
      }
    },
    {
      "cell_type": "code",
      "source": [
        "# create another plot exploring the data\n",
        "# choose columns and plot type"
      ],
      "outputs": [],
      "execution_count": 8,
      "metadata": {
        "colab": {
          "base_uri": "https://localhost:8080/",
          "height": 623
        },
        "id": "8ILFx3plBn53",
        "executionInfo": {
          "status": "ok",
          "timestamp": 1639492756473,
          "user_tz": 360,
          "elapsed": 793,
          "user": {
            "displayName": "Karen Janice Mazidi",
            "photoUrl": "https://lh3.googleusercontent.com/a-/AOh14GiRxWMd1kdCCDAxi9gcTgAt8fOYqu1fFKGVTIWH8g=s64",
            "userId": "15149885104950584541"
          }
        },
        "outputId": "791573dc-d956-44fd-ce5a-d6f975aba6dd",
        "execution": {
          "iopub.status.busy": "2022-02-09T18:00:25.992Z",
          "iopub.execute_input": "2022-02-09T18:00:25.999Z",
          "iopub.status.idle": "2022-02-09T18:00:26.009Z",
          "shell.execute_reply": "2022-02-09T18:00:26.016Z"
        }
      }
    },
    {
      "cell_type": "markdown",
      "source": [
        "### Step 4 Prepare Data\n",
        "\n",
        "You can use the code below for this step. \n",
        "\n"
      ],
      "metadata": {
        "id": "8piYMXh6B_Nc"
      }
    },
    {
      "cell_type": "code",
      "source": [
        "# set up X and y\n",
        "\n",
        "X=df.drop(columns=['price'],axis=1)\n",
        "y=df['price']"
      ],
      "outputs": [],
      "execution_count": 28,
      "metadata": {
        "id": "JhllC618CPM5",
        "executionInfo": {
          "status": "ok",
          "timestamp": 1639494929731,
          "user_tz": 360,
          "elapsed": 100,
          "user": {
            "displayName": "Karen Janice Mazidi",
            "photoUrl": "https://lh3.googleusercontent.com/a-/AOh14GiRxWMd1kdCCDAxi9gcTgAt8fOYqu1fFKGVTIWH8g=s64",
            "userId": "15149885104950584541"
          }
        }
      }
    },
    {
      "cell_type": "code",
      "source": [
        "import numpy as np\n",
        "from sklearn.preprocessing import MinMaxScaler, LabelBinarizer\n",
        "from sklearn.compose import ColumnTransformer\n",
        "from sklearn.model_selection import train_test_split\n",
        "\n",
        "\n",
        "X_train,X_test,y_train,y_test=train_test_split(X, y, test_size=0.2)\n",
        "\n",
        "# scale the numeric data\n",
        "col_list = ['year', 'mileage', 'tax', 'mpg', 'engineSize']\n",
        "scaler = MinMaxScaler()\n",
        "train_numeric = scaler.fit_transform(X_train[col_list])\n",
        "test_numeric = scaler.transform(X_test[col_list])\n",
        "\n",
        "# one-hot encode the categorical data for model, transmission, and fuelType\n",
        "# model\n",
        "zipBinarizer = LabelBinarizer().fit(df['model'])\n",
        "train_model = zipBinarizer.transform(X_train['model'])\n",
        "test_model = zipBinarizer.transform(X_test['model'])\n",
        "# transmission\n",
        "zipBinarizer = LabelBinarizer().fit(df['transmission'])\n",
        "train_transmission = zipBinarizer.transform(X_train['transmission'])\n",
        "test_transmission = zipBinarizer.transform(X_test['transmission'])\n",
        "# fuelType\n",
        "zipBinarizer = LabelBinarizer().fit(df['fuelType'])\n",
        "train_fuelType = zipBinarizer.transform(X_train['fuelType'])\n",
        "test_fuelType = zipBinarizer.transform(X_test['fuelType'])\n",
        "\n",
        "# concatenate\n",
        "X_train_input = np.hstack([train_numeric, train_model, train_transmission, train_fuelType])\n",
        "X_test_input = np.hstack([test_numeric, test_model, test_transmission, test_fuelType])\n",
        "\n",
        "print(X_train_input[:3])\n"
      ],
      "outputs": [
        {
          "output_type": "stream",
          "name": "stdout",
          "text": [
            "[[1.         0.02824203 0.25       0.14937759 0.28846154 0.\n",
            "  0.         0.         0.         0.         0.         0.\n",
            "  0.         1.         0.         0.         0.         0.\n",
            "  0.         0.         0.         0.         0.         0.\n",
            "  0.         0.         0.         0.         0.         0.\n",
            "  0.         0.         1.         0.         0.         0.\n",
            "  1.        ]\n",
            " [0.95454545 0.03505107 0.25862069 0.06224066 0.48076923 0.\n",
            "  0.         0.         0.         0.         0.         0.\n",
            "  0.         0.         0.         0.         0.         0.\n",
            "  0.         1.         0.         0.         0.         0.\n",
            "  0.         0.         0.         0.         0.         0.\n",
            "  0.         0.         0.         1.         0.         0.\n",
            "  1.        ]\n",
            " [0.86363636 0.04766921 0.05172414 0.21873148 0.26923077 0.\n",
            "  0.         1.         0.         0.         0.         0.\n",
            "  0.         0.         0.         0.         0.         0.\n",
            "  0.         0.         0.         0.         0.         0.\n",
            "  0.         0.         0.         0.         0.         0.\n",
            "  0.         0.         1.         0.         0.         0.\n",
            "  1.        ]]\n"
          ]
        }
      ],
      "execution_count": 29,
      "metadata": {
        "id": "1Gi4lnnaCPUV",
        "executionInfo": {
          "status": "ok",
          "timestamp": 1639494930917,
          "user_tz": 360,
          "elapsed": 108,
          "user": {
            "displayName": "Karen Janice Mazidi",
            "photoUrl": "https://lh3.googleusercontent.com/a-/AOh14GiRxWMd1kdCCDAxi9gcTgAt8fOYqu1fFKGVTIWH8g=s64",
            "userId": "15149885104950584541"
          }
        },
        "colab": {
          "base_uri": "https://localhost:8080/"
        },
        "outputId": "86da33a9-ba7b-4a28-e182-4563b52c69ef"
      }
    },
    {
      "cell_type": "markdown",
      "source": [
        "### Step 5 Linear regression\n",
        "\n",
        "Run linear regression in sklearn. "
      ],
      "metadata": {
        "id": "QbG9IUksmHci"
      }
    },
    {
      "cell_type": "code",
      "source": [
        "# train the algorithm\n"
      ],
      "outputs": [],
      "execution_count": 9,
      "metadata": {
        "colab": {
          "base_uri": "https://localhost:8080/"
        },
        "id": "5pgB8IzVCPbf",
        "executionInfo": {
          "status": "ok",
          "timestamp": 1639495090602,
          "user_tz": 360,
          "elapsed": 126,
          "user": {
            "displayName": "Karen Janice Mazidi",
            "photoUrl": "https://lh3.googleusercontent.com/a-/AOh14GiRxWMd1kdCCDAxi9gcTgAt8fOYqu1fFKGVTIWH8g=s64",
            "userId": "15149885104950584541"
          }
        },
        "outputId": "6bb2584e-651c-4fcd-a52c-d560006f74d3",
        "execution": {
          "iopub.status.busy": "2022-02-09T18:01:24.149Z",
          "iopub.execute_input": "2022-02-09T18:01:24.156Z",
          "iopub.status.idle": "2022-02-09T18:01:24.168Z",
          "shell.execute_reply": "2022-02-09T18:01:24.174Z"
        }
      }
    },
    {
      "cell_type": "code",
      "source": [
        "# make predictions\n",
        "\n"
      ],
      "outputs": [],
      "execution_count": 10,
      "metadata": {
        "id": "VtxNA2xRC_9w",
        "executionInfo": {
          "status": "ok",
          "timestamp": 1639495098772,
          "user_tz": 360,
          "elapsed": 109,
          "user": {
            "displayName": "Karen Janice Mazidi",
            "photoUrl": "https://lh3.googleusercontent.com/a-/AOh14GiRxWMd1kdCCDAxi9gcTgAt8fOYqu1fFKGVTIWH8g=s64",
            "userId": "15149885104950584541"
          }
        },
        "execution": {
          "iopub.status.busy": "2022-02-09T18:01:29.090Z",
          "iopub.execute_input": "2022-02-09T18:01:29.096Z",
          "iopub.status.idle": "2022-02-09T18:01:29.108Z",
          "shell.execute_reply": "2022-02-09T18:01:29.114Z"
        }
      }
    },
    {
      "cell_type": "code",
      "source": [
        "# evaluation on the test data using mse, mae, and r2_score\n"
      ],
      "outputs": [],
      "execution_count": 11,
      "metadata": {
        "colab": {
          "base_uri": "https://localhost:8080/"
        },
        "id": "Nh_m31RSDAB5",
        "executionInfo": {
          "status": "ok",
          "timestamp": 1639496436916,
          "user_tz": 360,
          "elapsed": 129,
          "user": {
            "displayName": "Karen Janice Mazidi",
            "photoUrl": "https://lh3.googleusercontent.com/a-/AOh14GiRxWMd1kdCCDAxi9gcTgAt8fOYqu1fFKGVTIWH8g=s64",
            "userId": "15149885104950584541"
          }
        },
        "outputId": "535e232a-528d-426c-91df-f8cf0c612cbb",
        "execution": {
          "iopub.status.busy": "2022-02-09T18:01:58.423Z",
          "iopub.execute_input": "2022-02-09T18:01:58.431Z",
          "iopub.status.idle": "2022-02-09T18:01:58.441Z",
          "shell.execute_reply": "2022-02-09T18:01:58.448Z"
        }
      }
    },
    {
      "cell_type": "code",
      "source": [
        "# display the first 5 predictions"
      ],
      "outputs": [],
      "execution_count": 12,
      "metadata": {
        "colab": {
          "base_uri": "https://localhost:8080/"
        },
        "id": "6fWjIcfSjCIP",
        "executionInfo": {
          "status": "ok",
          "timestamp": 1639495536243,
          "user_tz": 360,
          "elapsed": 109,
          "user": {
            "displayName": "Karen Janice Mazidi",
            "photoUrl": "https://lh3.googleusercontent.com/a-/AOh14GiRxWMd1kdCCDAxi9gcTgAt8fOYqu1fFKGVTIWH8g=s64",
            "userId": "15149885104950584541"
          }
        },
        "outputId": "16951ad6-20c6-4318-b86e-6b5a46853f5d",
        "execution": {
          "iopub.status.busy": "2022-02-09T18:02:11.834Z",
          "iopub.execute_input": "2022-02-09T18:02:11.840Z",
          "iopub.status.idle": "2022-02-09T18:02:11.851Z",
          "shell.execute_reply": "2022-02-09T18:02:11.856Z"
        }
      }
    },
    {
      "cell_type": "code",
      "source": [
        "# display the first 5 actual values"
      ],
      "outputs": [],
      "execution_count": 13,
      "metadata": {
        "colab": {
          "base_uri": "https://localhost:8080/"
        },
        "id": "6014OTfujFtx",
        "executionInfo": {
          "status": "ok",
          "timestamp": 1639495538022,
          "user_tz": 360,
          "elapsed": 2,
          "user": {
            "displayName": "Karen Janice Mazidi",
            "photoUrl": "https://lh3.googleusercontent.com/a-/AOh14GiRxWMd1kdCCDAxi9gcTgAt8fOYqu1fFKGVTIWH8g=s64",
            "userId": "15149885104950584541"
          }
        },
        "outputId": "814a0d29-7a57-48ac-f2ea-71cb6c7386f8",
        "execution": {
          "iopub.status.busy": "2022-02-09T18:02:22.023Z",
          "iopub.execute_input": "2022-02-09T18:02:22.028Z",
          "iopub.status.idle": "2022-02-09T18:02:22.038Z",
          "shell.execute_reply": "2022-02-09T18:02:22.043Z"
        }
      }
    },
    {
      "cell_type": "markdown",
      "source": [
        "### Regression in Keras"
      ],
      "metadata": {
        "id": "gifC_-jYmxf5"
      }
    },
    {
      "cell_type": "code",
      "source": [
        "# build a sequential model\n",
        "# you choose the architecture"
      ],
      "outputs": [],
      "execution_count": 34,
      "metadata": {
        "id": "YQWReKSIDAGg",
        "executionInfo": {
          "status": "ok",
          "timestamp": 1639495158688,
          "user_tz": 360,
          "elapsed": 2888,
          "user": {
            "displayName": "Karen Janice Mazidi",
            "photoUrl": "https://lh3.googleusercontent.com/a-/AOh14GiRxWMd1kdCCDAxi9gcTgAt8fOYqu1fFKGVTIWH8g=s64",
            "userId": "15149885104950584541"
          }
        }
      }
    },
    {
      "cell_type": "code",
      "source": [
        "# compile the model"
      ],
      "outputs": [],
      "execution_count": 14,
      "metadata": {
        "id": "0wRryCnQD2qX",
        "executionInfo": {
          "status": "ok",
          "timestamp": 1639495159529,
          "user_tz": 360,
          "elapsed": 84,
          "user": {
            "displayName": "Karen Janice Mazidi",
            "photoUrl": "https://lh3.googleusercontent.com/a-/AOh14GiRxWMd1kdCCDAxi9gcTgAt8fOYqu1fFKGVTIWH8g=s64",
            "userId": "15149885104950584541"
          }
        },
        "execution": {
          "iopub.status.busy": "2022-02-09T18:02:55.257Z",
          "iopub.execute_input": "2022-02-09T18:02:55.263Z",
          "iopub.status.idle": "2022-02-09T18:02:55.272Z",
          "shell.execute_reply": "2022-02-09T18:02:55.277Z"
        }
      }
    },
    {
      "cell_type": "code",
      "source": [
        "# train the model"
      ],
      "outputs": [],
      "execution_count": 15,
      "metadata": {
        "colab": {
          "base_uri": "https://localhost:8080/"
        },
        "id": "2S9rgkHBD2ux",
        "executionInfo": {
          "status": "ok",
          "timestamp": 1639497398469,
          "user_tz": 360,
          "elapsed": 51808,
          "user": {
            "displayName": "Karen Janice Mazidi",
            "photoUrl": "https://lh3.googleusercontent.com/a-/AOh14GiRxWMd1kdCCDAxi9gcTgAt8fOYqu1fFKGVTIWH8g=s64",
            "userId": "15149885104950584541"
          }
        },
        "outputId": "64d5fe3f-ed7b-4227-e110-7d97f6f250c6",
        "execution": {
          "iopub.status.busy": "2022-02-09T18:03:01.932Z",
          "iopub.execute_input": "2022-02-09T18:03:01.939Z",
          "iopub.status.idle": "2022-02-09T18:03:01.949Z",
          "shell.execute_reply": "2022-02-09T18:03:01.955Z"
        }
      }
    },
    {
      "cell_type": "code",
      "source": [
        "# output test mse score, test mae score\n"
      ],
      "outputs": [],
      "execution_count": 16,
      "metadata": {
        "colab": {
          "base_uri": "https://localhost:8080/"
        },
        "id": "Uq8OiVoVD2zk",
        "executionInfo": {
          "status": "ok",
          "timestamp": 1639497497630,
          "user_tz": 360,
          "elapsed": 385,
          "user": {
            "displayName": "Karen Janice Mazidi",
            "photoUrl": "https://lh3.googleusercontent.com/a-/AOh14GiRxWMd1kdCCDAxi9gcTgAt8fOYqu1fFKGVTIWH8g=s64",
            "userId": "15149885104950584541"
          }
        },
        "outputId": "76d87c50-775d-4a30-927f-4b5b1f6c485a",
        "execution": {
          "iopub.status.busy": "2022-02-09T18:03:19.101Z",
          "iopub.execute_input": "2022-02-09T18:03:19.107Z",
          "iopub.status.idle": "2022-02-09T18:03:19.117Z",
          "shell.execute_reply": "2022-02-09T18:03:19.124Z"
        }
      }
    },
    {
      "cell_type": "markdown",
      "source": [
        "### Step 7 Commentary\n",
        "\n",
        "Answer the following questions:\n",
        "\n",
        "a. Compare metrics from sklearn and Keras. \n",
        "\n",
        "\n",
        "b. Explore the data a bit more to speculate on why you achieved the results you got. \n",
        "\n",
        "\n",
        "c. Describe all the architectures/hyperparameters you tried and the results. What do you conclude?\n",
        "\n"
      ],
      "metadata": {
        "id": "7zB7XtbknGn2"
      }
    }
  ],
  "metadata": {
    "colab": {
      "name": "Hm7 Sample Solution.ipynb",
      "provenance": [],
      "collapsed_sections": [],
      "authorship_tag": "ABX9TyMYd4u0LI/ZNhpvwDkwgGXb"
    },
    "kernelspec": {
      "name": "python3",
      "display_name": "Python 3"
    },
    "language_info": {
      "name": "python",
      "version": "3.7.3",
      "mimetype": "text/x-python",
      "codemirror_mode": {
        "name": "ipython",
        "version": 3
      },
      "pygments_lexer": "ipython3",
      "nbconvert_exporter": "python",
      "file_extension": ".py"
    },
    "nteract": {
      "version": "0.28.0"
    }
  },
  "nbformat": 4,
  "nbformat_minor": 0
}